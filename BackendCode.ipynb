{
 "cells": [
  {
   "cell_type": "code",
   "execution_count": 3,
   "id": "bbe197a8",
   "metadata": {},
   "outputs": [
    {
     "data": {
      "text/plain": [
       "<All keys matched successfully>"
      ]
     },
     "execution_count": 3,
     "metadata": {},
     "output_type": "execute_result"
    }
   ],
   "source": [
    "import torch\n",
    "import torch.nn as nn\n",
    "def ClinicalPredict(X):\n",
    "    class Net(nn.Module):\n",
    "\n",
    "        def __init__(self):\n",
    "            super(Net, self).__init__()\n",
    "            self.fc1 = nn.Linear(10, 128)\n",
    "            self.fc2 = nn.Linear(128, 6)\n",
    "\n",
    "        def forward(self, x):\n",
    "            x = F.relu(self.fc1(x))\n",
    "            x = F.softmax(self.fc2(x),-1)\n",
    "            return x\n",
    "\n",
    "    \n",
    "    net = Net()\n",
    "    net.load_state_dict(torch.load(r\"D:\\BE Project\\Final\\Dashboards\\Covid-Dashboard\\final.pth\"))\n",
    "    B=[]\n",
    "    if(X['Computed tomography (CT): ']=='0.0'):\n",
    "        del X['Computed tomography (CT): ']\n",
    "        for i,j in X.items():\n",
    "            B.append(j)\n",
    "        B.append(0)\n",
    "        B.append(1)\n",
    "    else:\n",
    "        del X['Computed tomography (CT): ']\n",
    "        for i,j in X.items():\n",
    "            B.append(j)\n",
    "        B.append(1)\n",
    "        B.append(0)\n",
    "    if(X['SARS-CoV-2 nucleic acids:']=='0.0'):\n",
    "        del X['SARS-CoV-2 nucleic acids:']\n",
    "        for i,j in X.items():\n",
    "            B.append(j)\n",
    "        B.append(1)\n",
    "        B.append(0)\n",
    "        B.append(0)\n",
    "    elif(X['SARS-CoV-2 nucleic acids:']=='2.0'):\n",
    "        del X['SARS-CoV-2 nucleic acids:']\n",
    "        for i,j in X.items():\n",
    "            B.append(j)\n",
    "        B.append(0)\n",
    "        B.append(1)\n",
    "        B.append(0)\n",
    "    else:\n",
    "        del X['SARS-CoV-2 nucleic acids:']\n",
    "        for i,j in X.items():\n",
    "            B.append(j)\n",
    "        B.append(0)\n",
    "        B.append(0)\n",
    "        B.append(1)\n",
    "    means=[55.78090452261306,0.4914572864321608,37.687537688442085,335.08040201005025,30.875577889447246,92.11678391959818,36.542211055276404,122.49547738693467,3.9842311557788963,9.64693467336682,216.83115577889447,0.08013065326633168,0.4651155778894471,1.3357587939698474,4.321396984924626,0.33415075376884434,1.3900301507537653,7.983547738693462,24.351155778894455,65.9465427135679,6.227597989949749,0.7688442211055276,0.23115577889447236,0.5899497487437186,0.0371859296482412,0.37286432160804023]\n",
    "    stds=[16.937280359662854, 0.5001784258449753, 1.0835079158729028, 10.905463891800666, 2.3531554530525507, 6.058730809557298, 5.896997081835589, 20.455544614630206, 0.6851681686639218, 1.39547203625785, 92.91736898408396, 0.116383649791144, 0.35655300021217684, 1.0385389162636705, 3.1039815993017386, 0.3799859117728046, 1.8860093549122108, 4.344531192682075, 12.68298128424042, 14.69407766474096, 3.365822593300694, 0.42178380757953365, 0.42178380757953365, 0.49208984134931333, 0.1893123227268433, 0.48380963951448913]\n",
    "    pos=0\n",
    "    for pos in range(len(means)):\n",
    "        B[pos]=(B[pos]-means[pos])/stds[pos]\n",
    "    B=torch.FloatTensor(B)\n",
    "    prediction=net(B)\n",
    "    o=0\n",
    "    for m in prediction:\n",
    "        if(m==max(predictions)):\n",
    "            break\n",
    "        o+=1\n",
    "    \n",
    "    if(o==0):\n",
    "        return 'Mild conditions predicted,asymptotic'\n",
    "    elif(o==1):\n",
    "        return 'Suspective of Covid 19 if not,regular symptoms predicted'\n",
    "    elif(o==2):\n",
    "        return 'In control,supervision required'\n",
    "    elif(o==3):\n",
    "        return 'Immediate hospitalisation'"
   ]
  },
  {
   "cell_type": "code",
   "execution_count": null,
   "id": "c5f812e7",
   "metadata": {},
   "outputs": [],
   "source": [
    " 'Age: ','Gender','Body temperature: ', 'SARS-CoV-2 nucleic acids: ',\n",
    "       'Computed tomography (CT): ',                       'MCHC',\n",
    "                              'MCH',                        'MCV',\n",
    "                              'HCT',                        'HGB',\n",
    "                              'RBC',                        'MPV',\n",
    "                              'PLT',                         'EO',\n",
    "                               'MO',                         'LY',\n",
    "                               'NE',                        'BAP',\n",
    "                              'EOP',                        'MOP',\n",
    "                              'LYP',                        'NEP',\n",
    "                              'WBC',  "
   ]
  },
  {
   "cell_type": "code",
   "execution_count": 16,
   "id": "a92fa3e8",
   "metadata": {},
   "outputs": [
    {
     "name": "stdout",
     "output_type": "stream",
     "text": [
      "Mild conditions predicted,asymptotic\n"
     ]
    }
   ],
   "source": []
  },
  {
   "cell_type": "code",
   "execution_count": null,
   "id": "fba170eb",
   "metadata": {},
   "outputs": [],
   "source": []
  }
 ],
 "metadata": {
  "kernelspec": {
   "display_name": "Python 3 (ipykernel)",
   "language": "python",
   "name": "python3"
  },
  "language_info": {
   "codemirror_mode": {
    "name": "ipython",
    "version": 3
   },
   "file_extension": ".py",
   "mimetype": "text/x-python",
   "name": "python",
   "nbconvert_exporter": "python",
   "pygments_lexer": "ipython3",
   "version": "3.9.7"
  }
 },
 "nbformat": 4,
 "nbformat_minor": 5
}
